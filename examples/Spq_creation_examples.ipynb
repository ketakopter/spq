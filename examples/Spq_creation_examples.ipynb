{
  "nbformat": 4,
  "nbformat_minor": 0,
  "metadata": {
    "colab": {
      "name": "Spq-creation-examples.ipynb",
      "provenance": [],
      "toc_visible": true,
      "authorship_tag": "ABX9TyPF4onOH26zWNNUuNSItvux",
      "include_colab_link": true
    },
    "kernelspec": {
      "name": "python3",
      "display_name": "Python 3"
    }
  },
  "cells": [
    {
      "cell_type": "markdown",
      "metadata": {
        "id": "view-in-github",
        "colab_type": "text"
      },
      "source": [
        "<a href=\"https://colab.research.google.com/github/ketakopter/spq/blob/main/examples/Spq_creation_examples.ipynb\" target=\"_parent\"><img src=\"https://colab.research.google.com/assets/colab-badge.svg\" alt=\"Open In Colab\"/></a>"
      ]
    },
    {
      "cell_type": "markdown",
      "metadata": {
        "id": "qNz8jTJn2R_3"
      },
      "source": [
        "## Setup"
      ]
    },
    {
      "cell_type": "markdown",
      "metadata": {
        "id": "ytBXYRMXKWTt"
      },
      "source": [
        "### Download SPQ from GitHub"
      ]
    },
    {
      "cell_type": "code",
      "metadata": {
        "id": "yd9A09tPJ3O4"
      },
      "source": [
        "!git clone -q git://github.com/ketakopter/spq.git\r\n",
        "%cd -q spq"
      ],
      "execution_count": 1,
      "outputs": []
    },
    {
      "cell_type": "markdown",
      "metadata": {
        "id": "KlSqLEs-2Tmv"
      },
      "source": [
        "### Other modules"
      ]
    },
    {
      "cell_type": "code",
      "metadata": {
        "id": "1_OJz7gU2WDG"
      },
      "source": [
        "import numpy as np\r\n",
        "import matplotlib.pyplot as plt"
      ],
      "execution_count": 2,
      "outputs": []
    },
    {
      "cell_type": "markdown",
      "metadata": {
        "id": "DeG1Vx8KKfXz"
      },
      "source": [
        "## Load SPQ with a different file"
      ]
    },
    {
      "cell_type": "markdown",
      "metadata": {
        "id": "SpuD8eACN8K8"
      },
      "source": [
        "When initializing the `spq` **package** it provides physical quantities in its namespace. The quantities are initialized from a default json file, but we can start the package with the physical quantities and units as defined in a file different from the default.\r\n",
        "\r\n",
        "In the examples directory we have a json file ready to be used:"
      ]
    },
    {
      "cell_type": "code",
      "metadata": {
        "id": "AsO09wHjKydM"
      },
      "source": [
        "import json\r\n",
        "with open(\"examples/pq-roman.json\") as fp:\r\n",
        "  roman_units = json.load(fp)"
      ],
      "execution_count": 3,
      "outputs": []
    },
    {
      "cell_type": "code",
      "metadata": {
        "colab": {
          "base_uri": "https://localhost:8080/"
        },
        "id": "vRTVkeYbK0cO",
        "outputId": "d82a2906-a814-449d-e164-185b13fd8d78"
      },
      "source": [
        "roman_units['physical_quantities']"
      ],
      "execution_count": 4,
      "outputs": [
        {
          "output_type": "execute_result",
          "data": {
            "text/plain": [
              "[{'conversions': [{'factor': 16.0, 'from': 'pes', 'to': 'digitus'},\n",
              "   {'factor': 4.0, 'from': 'pes', 'to': 'palmus'},\n",
              "   {'factor': 5.0, 'from': 'passus', 'to': 'pes'},\n",
              "   {'factor': 625.0, 'from': 'stadium', 'to': 'pes'}],\n",
              "  'main_unit': 'pes',\n",
              "  'name': 'Dist'},\n",
              " {'conversions': [{'factor': 24.0, 'from': 'congius', 'to': 'quartarius'},\n",
              "   {'factor': 8.0, 'from': 'amphora', 'to': 'congius'}],\n",
              "  'main_unit': 'congius',\n",
              "  'name': 'Vol'}]"
            ]
          },
          "metadata": {
            "tags": []
          },
          "execution_count": 4
        }
      ]
    },
    {
      "cell_type": "markdown",
      "metadata": {
        "id": "lAuw0oHLONhr"
      },
      "source": [
        "The syntax of the json file is pretty self-explanatory, but you can see in the sections below what to expect from unit conversions."
      ]
    },
    {
      "cell_type": "markdown",
      "metadata": {
        "id": "YCf65lS0cBKg"
      },
      "source": [
        "We can set the `SPQFILE` environment variable to load the physical quantities from there."
      ]
    },
    {
      "cell_type": "code",
      "metadata": {
        "id": "6m7JlaskSt4Q"
      },
      "source": [
        "import os\r\n",
        "os.environ[\"SPQFILE\"] = \"examples/pq-roman.json\""
      ],
      "execution_count": 5,
      "outputs": []
    },
    {
      "cell_type": "markdown",
      "metadata": {
        "id": "vyTN8TQ2dPnI"
      },
      "source": [
        "And now the `spq` package loads the physical quantities defined there."
      ]
    },
    {
      "cell_type": "code",
      "metadata": {
        "id": "dLnx6_KXTOVB"
      },
      "source": [
        "from spq import *"
      ],
      "execution_count": 6,
      "outputs": []
    },
    {
      "cell_type": "code",
      "metadata": {
        "colab": {
          "base_uri": "https://localhost:8080/"
        },
        "id": "c0u0As52TP9g",
        "outputId": "591bbc39-7b45-4980-903a-042f24b54492"
      },
      "source": [
        "print(Dist._units, Vol._units)"
      ],
      "execution_count": 7,
      "outputs": [
        {
          "output_type": "stream",
          "text": [
            "['pes', 'digitus', 'palmus', 'passus', 'stadium'] ['congius', 'quartarius', 'amphora']\n"
          ],
          "name": "stdout"
        }
      ]
    },
    {
      "cell_type": "code",
      "metadata": {
        "colab": {
          "base_uri": "https://localhost:8080/"
        },
        "id": "dyBqYd_RTaYK",
        "outputId": "11ba3897-6bbd-4d71-a257-8fbecaa4e56f"
      },
      "source": [
        "a = Dist.frompes(1)\r\n",
        "print(a.digitus)\r\n",
        "print(a.palmus)\r\n",
        "print(a.pes)\r\n",
        "print(a.passus)\r\n",
        "print(a.stadium)"
      ],
      "execution_count": 8,
      "outputs": [
        {
          "output_type": "stream",
          "text": [
            "16.0\n",
            "4.0\n",
            "1.0\n",
            "0.2\n",
            "0.0016\n"
          ],
          "name": "stdout"
        }
      ]
    },
    {
      "cell_type": "code",
      "metadata": {
        "colab": {
          "base_uri": "https://localhost:8080/"
        },
        "id": "-c1aj0K7Tdoj",
        "outputId": "6de112cc-12b8-43a8-ba7c-0aa5496815ed"
      },
      "source": [
        "print(Dist.fromstadium([1, 15]))"
      ],
      "execution_count": 9,
      "outputs": [
        {
          "output_type": "stream",
          "text": [
            "[625.0 9375.0]\n"
          ],
          "name": "stdout"
        }
      ]
    },
    {
      "cell_type": "code",
      "metadata": {
        "colab": {
          "base_uri": "https://localhost:8080/"
        },
        "id": "JAeUEn18Vbui",
        "outputId": "70b27bae-6ea0-4c6a-87b0-1d756fa8a7f7"
      },
      "source": [
        "print(Vol.fromamphora([1, 10]).congius)"
      ],
      "execution_count": 10,
      "outputs": [
        {
          "output_type": "stream",
          "text": [
            "[ 8. 80.]\n"
          ],
          "name": "stdout"
        }
      ]
    },
    {
      "cell_type": "code",
      "metadata": {
        "colab": {
          "base_uri": "https://localhost:8080/"
        },
        "id": "Dc2LhsbNVe6m",
        "outputId": "fce9bda0-38a9-4113-d6e2-982033c7cb28"
      },
      "source": [
        "print(Vol.fromamphora(1).quartarius)"
      ],
      "execution_count": 11,
      "outputs": [
        {
          "output_type": "stream",
          "text": [
            "192.0\n"
          ],
          "name": "stdout"
        }
      ]
    },
    {
      "cell_type": "markdown",
      "metadata": {
        "id": "Iw6QMDITm4Sf"
      },
      "source": [
        "## Create physical quantities at runtime"
      ]
    },
    {
      "cell_type": "markdown",
      "metadata": {
        "id": "Etp7IkDWbrha"
      },
      "source": [
        "The `spq` package makes available physical quantities using the functionalities of the `spq` module inside the package. The functionalitues can be used to create physical quantities at runtime or in other python modules."
      ]
    },
    {
      "cell_type": "markdown",
      "metadata": {
        "id": "7GEuv5aXoG8R"
      },
      "source": [
        "### Load from external file"
      ]
    },
    {
      "cell_type": "markdown",
      "metadata": {
        "id": "Z7b5ylx2nNsn"
      },
      "source": [
        "We can load into variables physical quantities from a json file. The `spq` **module** within the package provides a function for that. The quantities are loaded into a list. Thus, one \"needs\" to know what quantities are defined if they want to directly assing them to objects."
      ]
    },
    {
      "cell_type": "code",
      "metadata": {
        "id": "7vZ42VYlVt1S"
      },
      "source": [
        "from spq.spq import createPqsFromJsonFile\r\n",
        "\r\n",
        "Dist, Vol = createPqsFromJsonFile(\"examples/pq-roman.json\")"
      ],
      "execution_count": 12,
      "outputs": []
    },
    {
      "cell_type": "markdown",
      "metadata": {
        "id": "gJHZIewxoKne"
      },
      "source": [
        "OK, now the quantities are the same as above..."
      ]
    },
    {
      "cell_type": "code",
      "metadata": {
        "colab": {
          "base_uri": "https://localhost:8080/"
        },
        "id": "A4L-of9WnuBd",
        "outputId": "ea17bc8f-dae2-4275-aa0f-8b82fa5f65c6"
      },
      "source": [
        "print(Dist._units)"
      ],
      "execution_count": 13,
      "outputs": [
        {
          "output_type": "stream",
          "text": [
            "['pes', 'digitus', 'palmus', 'passus', 'stadium']\n"
          ],
          "name": "stdout"
        }
      ]
    },
    {
      "cell_type": "markdown",
      "metadata": {
        "id": "6e2MJyblsmCe"
      },
      "source": [
        "### Create a physical quantity from a dict"
      ]
    },
    {
      "cell_type": "markdown",
      "metadata": {
        "id": "vHCuIJuMssit"
      },
      "source": [
        "We can create a physical quantity if we specify the conversions between units, the main unit, and the name of the physical quantity in a dictionary. Basically, mimicking the structure of the json example.\r\n",
        "\r\n",
        "Note that we don't need to specify *all* conversions. If everything is connected, it will work."
      ]
    },
    {
      "cell_type": "code",
      "metadata": {
        "id": "_IMyigwSnwHh"
      },
      "source": [
        "astro_dict = {\r\n",
        "    'name': 'AstroDist',\r\n",
        "    'main_unit': 'm',\r\n",
        "    'conversions': [{'from': 'km',\r\n",
        "                     'to': 'm',\r\n",
        "                     'factor': 1.0e3},\r\n",
        "                    {'from': 'au',\r\n",
        "                     'to': 'km',\r\n",
        "                     'factor': 149.5e6},\r\n",
        "                    {'from': 'ly',\r\n",
        "                     'to': 'au',\r\n",
        "                     'factor': 63241.0},\r\n",
        "                    {'from': 'pc',\r\n",
        "                     'to': 'ly',\r\n",
        "                     'factor': 3.26156}\r\n",
        "    ]\r\n",
        "}"
      ],
      "execution_count": 14,
      "outputs": []
    },
    {
      "cell_type": "code",
      "metadata": {
        "id": "r4tViiGzt1iM"
      },
      "source": [
        "from spq.spq import createPqFromDict\r\n",
        "\r\n",
        "AstroDist = createPqFromDict(astro_dict)"
      ],
      "execution_count": 15,
      "outputs": []
    },
    {
      "cell_type": "code",
      "metadata": {
        "colab": {
          "base_uri": "https://localhost:8080/"
        },
        "id": "Uzyslewkt9JX",
        "outputId": "a834e611-b5cd-478d-9ec5-ce34935624d4"
      },
      "source": [
        "AstroDist.fromly(1).m"
      ],
      "execution_count": 16,
      "outputs": [
        {
          "output_type": "execute_result",
          "data": {
            "text/plain": [
              "9454529500000000.0"
            ]
          },
          "metadata": {
            "tags": []
          },
          "execution_count": 16
        }
      ]
    },
    {
      "cell_type": "code",
      "metadata": {
        "colab": {
          "base_uri": "https://localhost:8080/"
        },
        "id": "9JZ5IZjiuFLh",
        "outputId": "59f3f7d9-3424-4edd-d262-f238acf252d6"
      },
      "source": [
        "AstroDist.fromkm(np.linspace(1.5e8, 1.5e9, 2)).au"
      ],
      "execution_count": 17,
      "outputs": [
        {
          "output_type": "execute_result",
          "data": {
            "text/plain": [
              "array([ 1.00334448, 10.03344482])"
            ]
          },
          "metadata": {
            "tags": []
          },
          "execution_count": 17
        }
      ]
    },
    {
      "cell_type": "markdown",
      "metadata": {
        "id": "QTMaNZf74s3L"
      },
      "source": [
        "The conversions specified in a dict are simple linear scalings, although an offset can be specified too. Each conversion is a dictionary with keys `from`, `to`, `factor` and optionally `origin`.\r\n",
        "\r\n",
        "In the examples above it is clear how a simple linear conversion is specified. For example, to convert from _km_ to _m_, one has to multiply by a factor of 1000, thus the conversion is:\r\n",
        "\r\n",
        "```\r\n",
        "{'from'  : 'km',\r\n",
        " 'to'    : 'm',\r\n",
        " 'factor': 1000.0 }\r\n",
        "```"
      ]
    },
    {
      "cell_type": "markdown",
      "metadata": {
        "id": "ADVVvf395tCC"
      },
      "source": [
        "A typical example where an offset is needed is the temperature.\r\n",
        "\r\n",
        "The conversion from Celsius to Fahrenheit degrees is given by `degC = 5/9*(degF − 32)` or conversely `degF = 9/5*degC + 32`. The Kelvin is `K = degC + 273.15`, and the Rankine `degR = degF + 459.67`."
      ]
    },
    {
      "cell_type": "code",
      "metadata": {
        "id": "ugBIQA_g2NBU"
      },
      "source": [
        "temp_dict = {\r\n",
        "    'name': 'Temp',\r\n",
        "    'main_unit': 'K',\r\n",
        "    'conversions': [\r\n",
        "                    {\r\n",
        "                    \"from\": \"degC\",\r\n",
        "                    \"to\": \"degF\",\r\n",
        "                    \"factor\": 1.8,\r\n",
        "                    \"origin\": 32.0\r\n",
        "                },\r\n",
        "                {\r\n",
        "                    \"from\": \"degC\",\r\n",
        "                    \"to\": \"K\",\r\n",
        "                    \"factor\": 1.0,\r\n",
        "                    \"origin\": 273.15\r\n",
        "                },\r\n",
        "                {\r\n",
        "                    \"from\": \"degF\",\r\n",
        "                    \"to\": \"degR\",\r\n",
        "                    \"factor\": 1.0,\r\n",
        "                    \"origin\": 459.67\r\n",
        "                }\r\n",
        "    ]\r\n",
        "}"
      ],
      "execution_count": 18,
      "outputs": []
    },
    {
      "cell_type": "code",
      "metadata": {
        "id": "NZIFgMQd8J99"
      },
      "source": [
        "Temp = createPqFromDict(temp_dict)"
      ],
      "execution_count": 19,
      "outputs": []
    },
    {
      "cell_type": "code",
      "metadata": {
        "colab": {
          "base_uri": "https://localhost:8080/"
        },
        "id": "L6K8Bo_T8NMt",
        "outputId": "1449a6b5-8aa4-46ba-90f4-ce4bcf88e243"
      },
      "source": [
        "print(Temp.fromdegC(0).K)\r\n",
        "print(Temp.fromdegC(0).degF)\r\n",
        "print(Temp.fromdegC(0).degR)"
      ],
      "execution_count": 20,
      "outputs": [
        {
          "output_type": "stream",
          "text": [
            "273.15\n",
            "32.0\n",
            "491.67\n"
          ],
          "name": "stdout"
        }
      ]
    },
    {
      "cell_type": "code",
      "metadata": {
        "colab": {
          "base_uri": "https://localhost:8080/"
        },
        "id": "5aVmXJmV8Ri9",
        "outputId": "03b53136-49e7-446e-c10e-f7c1d2f4bea6"
      },
      "source": [
        "print(Temp.fromdegR(0).K)"
      ],
      "execution_count": 21,
      "outputs": [
        {
          "output_type": "stream",
          "text": [
            "-5.684341886080802e-14\n"
          ],
          "name": "stdout"
        }
      ]
    },
    {
      "cell_type": "markdown",
      "metadata": {
        "id": "Zs9KwOkG-L9P"
      },
      "source": [
        "### Create a physical quantity with a list of conversions"
      ]
    },
    {
      "cell_type": "markdown",
      "metadata": {
        "id": "eA8NSqI3Datj"
      },
      "source": [
        "We can create a physical quantity from a list of conversions, with each item in the list being a tuple of the form `(from, to, factor, origin)` (the last one is optional and defaults to 0)."
      ]
    },
    {
      "cell_type": "markdown",
      "metadata": {
        "id": "-cF2jiA-DzDc"
      },
      "source": [
        "Let's create lists based on the SI prefix conversion factors."
      ]
    },
    {
      "cell_type": "code",
      "metadata": {
        "id": "s2YoLBrJ8VaY"
      },
      "source": [
        "si_prefixes = {\r\n",
        "  'Y': 1e24,\r\n",
        "  'Z': 1e21,\r\n",
        "  'E': 1e18,\r\n",
        "  'P': 1e15,\r\n",
        "  'T': 1e12,\r\n",
        "  'G': 1e9,\r\n",
        "  'M': 1e6,\r\n",
        "  'k': 1e3,\r\n",
        "  'h': 1e2,\r\n",
        "  'da': 1e1, \r\n",
        "  'd': 1e-1,\r\n",
        "  'c': 1e-2,\r\n",
        "  'm': 1e-3,\r\n",
        "  'μ': 1e-6,\r\n",
        "  'n': 1e-9,\r\n",
        "  'p': 1e-12,\r\n",
        "  'f': 1e-15,\r\n",
        "  'a': 1e-18,\r\n",
        "  'z': 1e-21,\r\n",
        "  'y': 1e-24\r\n",
        "}"
      ],
      "execution_count": 22,
      "outputs": []
    },
    {
      "cell_type": "code",
      "metadata": {
        "colab": {
          "base_uri": "https://localhost:8080/"
        },
        "id": "jRj0c_p6_0Bm",
        "outputId": "9b51a15a-e056-4c52-cc30-5e7fd00ac327"
      },
      "source": [
        "length_units = [(k+'m', 'm', v) for k,v in si_prefixes.items()]\r\n",
        "length_units"
      ],
      "execution_count": 23,
      "outputs": [
        {
          "output_type": "execute_result",
          "data": {
            "text/plain": [
              "[('Ym', 'm', 1e+24),\n",
              " ('Zm', 'm', 1e+21),\n",
              " ('Em', 'm', 1e+18),\n",
              " ('Pm', 'm', 1000000000000000.0),\n",
              " ('Tm', 'm', 1000000000000.0),\n",
              " ('Gm', 'm', 1000000000.0),\n",
              " ('Mm', 'm', 1000000.0),\n",
              " ('km', 'm', 1000.0),\n",
              " ('hm', 'm', 100.0),\n",
              " ('dam', 'm', 10.0),\n",
              " ('dm', 'm', 0.1),\n",
              " ('cm', 'm', 0.01),\n",
              " ('mm', 'm', 0.001),\n",
              " ('μm', 'm', 1e-06),\n",
              " ('nm', 'm', 1e-09),\n",
              " ('pm', 'm', 1e-12),\n",
              " ('fm', 'm', 1e-15),\n",
              " ('am', 'm', 1e-18),\n",
              " ('zm', 'm', 1e-21),\n",
              " ('ym', 'm', 1e-24)]"
            ]
          },
          "metadata": {
            "tags": []
          },
          "execution_count": 23
        }
      ]
    },
    {
      "cell_type": "code",
      "metadata": {
        "colab": {
          "base_uri": "https://localhost:8080/"
        },
        "id": "MjuwicEXD9nC",
        "outputId": "7f956e59-4522-48d9-8636-985d508857d1"
      },
      "source": [
        "mass_units = [(k+'g', 'g', v, 0.0) for k,v in si_prefixes.items()] # The fourth item in the tuple is for example's sake.\r\n",
        "mass_units"
      ],
      "execution_count": 24,
      "outputs": [
        {
          "output_type": "execute_result",
          "data": {
            "text/plain": [
              "[('Yg', 'g', 1e+24, 0.0),\n",
              " ('Zg', 'g', 1e+21, 0.0),\n",
              " ('Eg', 'g', 1e+18, 0.0),\n",
              " ('Pg', 'g', 1000000000000000.0, 0.0),\n",
              " ('Tg', 'g', 1000000000000.0, 0.0),\n",
              " ('Gg', 'g', 1000000000.0, 0.0),\n",
              " ('Mg', 'g', 1000000.0, 0.0),\n",
              " ('kg', 'g', 1000.0, 0.0),\n",
              " ('hg', 'g', 100.0, 0.0),\n",
              " ('dag', 'g', 10.0, 0.0),\n",
              " ('dg', 'g', 0.1, 0.0),\n",
              " ('cg', 'g', 0.01, 0.0),\n",
              " ('mg', 'g', 0.001, 0.0),\n",
              " ('μg', 'g', 1e-06, 0.0),\n",
              " ('ng', 'g', 1e-09, 0.0),\n",
              " ('pg', 'g', 1e-12, 0.0),\n",
              " ('fg', 'g', 1e-15, 0.0),\n",
              " ('ag', 'g', 1e-18, 0.0),\n",
              " ('zg', 'g', 1e-21, 0.0),\n",
              " ('yg', 'g', 1e-24, 0.0)]"
            ]
          },
          "metadata": {
            "tags": []
          },
          "execution_count": 24
        }
      ]
    },
    {
      "cell_type": "markdown",
      "metadata": {
        "id": "VPwco7AwEP7Y"
      },
      "source": [
        "Once we have a list of conversions, we need to create a graph out of it, which connects all units and contains all the conversion factors. The `spq` module provides a function for that. The input list has only the one-direction conversion factors; the created graph contains the two-way linear conversions."
      ]
    },
    {
      "cell_type": "code",
      "metadata": {
        "id": "mxCGXb-jANpW"
      },
      "source": [
        "from spq.spq import graphOfLinearScaling\r\n",
        "\r\n",
        "length_graph = graphOfLinearScaling(length_units)\r\n",
        "mass_graph   = graphOfLinearScaling(mass_units)"
      ],
      "execution_count": 25,
      "outputs": []
    },
    {
      "cell_type": "markdown",
      "metadata": {
        "id": "Ic7FZAmQEfth"
      },
      "source": [
        "A physical quantity is created with a graph (as explained above, containing all the units and their conversions linked), and the main unit."
      ]
    },
    {
      "cell_type": "code",
      "metadata": {
        "id": "VUvFVLurAwGb"
      },
      "source": [
        "from spq.spq import createPq\r\n",
        "\r\n",
        "Length = createPq(length_graph, 'm')\r\n",
        "Mass   = createPq(mass_graph, 'kg')"
      ],
      "execution_count": 26,
      "outputs": []
    },
    {
      "cell_type": "markdown",
      "metadata": {
        "id": "DEBeq5C6FanH"
      },
      "source": [
        "Note that even if in the list of the mass units all related to `g`, the quantity can be initialized with a different unit (in this case `kg`) and it will work properly."
      ]
    },
    {
      "cell_type": "code",
      "metadata": {
        "colab": {
          "base_uri": "https://localhost:8080/"
        },
        "id": "_0Ru-nR8BFHg",
        "outputId": "b00574b6-116a-44ff-a990-23a145ee1141"
      },
      "source": [
        "print(Length.frommm(1).μm)"
      ],
      "execution_count": 27,
      "outputs": [
        {
          "output_type": "stream",
          "text": [
            "1000.0\n"
          ],
          "name": "stdout"
        }
      ]
    },
    {
      "cell_type": "code",
      "metadata": {
        "id": "LcyE-D_XBIW0",
        "colab": {
          "base_uri": "https://localhost:8080/"
        },
        "outputId": "68b1f366-5402-462c-9dbc-5587152e6cc5"
      },
      "source": [
        "print(Mass.fromg(1))\r\n",
        "print(Mass.fromg(1).kg)\r\n",
        "print(Mass(1).kg)\r\n",
        "print(Mass.frommg(1).μg)"
      ],
      "execution_count": 28,
      "outputs": [
        {
          "output_type": "stream",
          "text": [
            "0.001\n",
            "0.001\n",
            "1.0\n",
            "1000.0\n"
          ],
          "name": "stdout"
        }
      ]
    },
    {
      "cell_type": "markdown",
      "metadata": {
        "id": "GeebPoI__BUK"
      },
      "source": [
        "### Create a physical quantity from a graph"
      ]
    },
    {
      "cell_type": "markdown",
      "metadata": {
        "id": "JGjA4NFm_GH7"
      },
      "source": [
        "The ultimate way of defining a physical quantity is with a graph containing the relationships between the units.\r\n",
        "\r\n",
        "Such a graph needs to contain units at the nodes (e.g. `m` or `ft`), and the edges represent the functions used to convert from one unit to another. SPQ assumes that the functions are of the form `to = from2to(from)`.\r\n",
        "\r\n",
        "For example, the edge joining `m` and `ft` would have a function performing `ft = m / 0.3048`. The edge joining `ft` and `m` would have the inverse conversion, `m = ft * 0.3048`.\r\n",
        "\r\n",
        "The `gr` module within the package has a small implementation of graphs."
      ]
    },
    {
      "cell_type": "code",
      "metadata": {
        "id": "Ot6e__Su9xhD"
      },
      "source": [
        "from spq.gr import Gr\r\n",
        "\r\n",
        "def m2ft(m):\r\n",
        "  return m / 0.3048\r\n",
        "def ft2m(ft):\r\n",
        "  return ft * 0.3048\r\n",
        "\r\n",
        "dist_graph = Gr()\r\n",
        "dist_graph.addEdge('m', 'ft', m2ft)\r\n",
        "dist_graph.addEdge('ft', 'm', ft2m)\r\n",
        "\r\n",
        "Dist = createPq(dist_graph, 'm')"
      ],
      "execution_count": 29,
      "outputs": []
    },
    {
      "cell_type": "code",
      "metadata": {
        "colab": {
          "base_uri": "https://localhost:8080/"
        },
        "id": "n41uKnYiSJz8",
        "outputId": "3ce75220-d1ba-4704-baa0-c76395071843"
      },
      "source": [
        "print(Dist(4.1))\r\n",
        "print(Dist(4.1).ft)\r\n",
        "print(Dist.fromft(3.53))\r\n",
        "print(Dist.fromft(3.53).m)\r\n",
        "print(Dist.fromft(3.53).ft)"
      ],
      "execution_count": 30,
      "outputs": [
        {
          "output_type": "stream",
          "text": [
            "4.1\n",
            "13.451443569553804\n",
            "1.075944\n",
            "1.075944\n",
            "3.53\n"
          ],
          "name": "stdout"
        }
      ]
    },
    {
      "cell_type": "markdown",
      "metadata": {
        "id": "e6tBhvI6TUGr"
      },
      "source": [
        "By using directly the graph, we are not limited to linear scaling."
      ]
    },
    {
      "cell_type": "code",
      "metadata": {
        "id": "75bEnGutSKoB"
      },
      "source": [
        "dist_graph.addEdge('m', 'expm', lambda m: np.exp(m))\r\n",
        "dist_graph.addEdge('expm', 'm', lambda expm: np.log(expm))\r\n",
        "\r\n",
        "Dist = createPq(dist_graph, 'm')"
      ],
      "execution_count": 31,
      "outputs": []
    },
    {
      "cell_type": "code",
      "metadata": {
        "colab": {
          "base_uri": "https://localhost:8080/",
          "height": 265
        },
        "id": "_eSdfCPIVdFn",
        "outputId": "c338ca14-7501-43f5-92a5-ebe609321a1c"
      },
      "source": [
        "x = Dist(np.linspace(0, 2, 10))\r\n",
        "\r\n",
        "plt.plot(x.m, x.expm, '-o')\r\n",
        "plt.plot(x.m, x.ft, '-o')\r\n",
        "plt.grid()"
      ],
      "execution_count": 32,
      "outputs": [
        {
          "output_type": "display_data",
          "data": {
            "image/png": "[encoded data removed]",
            "text/plain": [
              "<Figure size 432x288 with 1 Axes>"
            ]
          },
          "metadata": {
            "tags": [],
            "needs_background": "light"
          }
        }
      ]
    },
    {
      "cell_type": "code",
      "metadata": {
        "colab": {
          "base_uri": "https://localhost:8080/",
          "height": 265
        },
        "id": "J6zCsZ55W78x",
        "outputId": "1bf175eb-97a3-4046-d5c9-ee931ab7cda7"
      },
      "source": [
        "y = Dist.fromexpm(np.geomspace(1, np.exp(2), 10))\r\n",
        "\r\n",
        "plt.plot(y.m, y.expm, '-o')\r\n",
        "plt.plot(y.m, y.ft, '-o')\r\n",
        "plt.grid()"
      ],
      "execution_count": 33,
      "outputs": [
        {
          "output_type": "display_data",
          "data": {
            "image/png": "[encoded data removed]",
            "text/plain": [
              "<Figure size 432x288 with 1 Axes>"
            ]
          },
          "metadata": {
            "tags": [],
            "needs_background": "light"
          }
        }
      ]
    },
    {
      "cell_type": "markdown",
      "metadata": {
        "id": "5kE2GqupaGFX"
      },
      "source": [
        "The physical quantity creation methods follow the path described above: the contents of the json file are converted into a list of dicts; a dict is converted into a list of tuples; the list of tuples is converted into a graph of linear scalings; the physical quantity is created from the graph."
      ]
    }
  ]
}