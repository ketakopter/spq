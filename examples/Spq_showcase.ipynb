{
  "nbformat": 4,
  "nbformat_minor": 0,
  "metadata": {
    "colab": {
      "name": "Spq-showcase.ipynb",
      "provenance": [],
      "authorship_tag": "ABX9TyOSQT+jinwjRxAt2Q//yYuN",
      "include_colab_link": true
    },
    "kernelspec": {
      "name": "python3",
      "display_name": "Python 3"
    }
  },
  "cells": [
    {
      "cell_type": "markdown",
      "metadata": {
        "id": "view-in-github",
        "colab_type": "text"
      },
      "source": [
        "[![Open In Colab](https://colab.research.google.com/assets/colab-badge.svg)](https://colab.research.google.com/github/ketakopter/spq/blob/main/examples/Spq_showcase.ipynb)\n",
        "[![Binder](https://mybinder.org/badge_logo.svg)](https://mybinder.org/v2/gh/ketakopter/spq/HEAD?filepath=examples%2FSpq_showcase.ipynb)"
      ]
    },
    {
      "cell_type": "markdown",
      "metadata": {
        "id": "lUsa0y9S7AsM"
      },
      "source": [
        "## Download SPQ from GitHub"
      ]
    },
    {
      "cell_type": "code",
      "metadata": {
        "id": "WucRyJgUt5ld"
      },
      "source": [
        "!git clone -q git://github.com/ketakopter/spq.git\r\n",
        "%cd -q spq\r\n",
        "!git reset -q --hard 178656a1c5acd474eb786046a26db8b1dbbee2cc"
      ],
      "execution_count": 2,
      "outputs": []
    },
    {
      "cell_type": "markdown",
      "metadata": {
        "id": "GPVkCuhW7HBX"
      },
      "source": [
        "## Load modules"
      ]
    },
    {
      "cell_type": "code",
      "metadata": {
        "id": "SEnfaDwxuA0f"
      },
      "source": [
        "# from spq import * works, too\r\n",
        "from spq import Dist, Temp, Area"
      ],
      "execution_count": 3,
      "outputs": []
    },
    {
      "cell_type": "code",
      "metadata": {
        "id": "qeIAw0d-7LcJ"
      },
      "source": [
        "import numpy as np\r\n",
        "import matplotlib.pyplot as plt\r\n",
        "from tabulate import tabulate"
      ],
      "execution_count": 4,
      "outputs": []
    },
    {
      "cell_type": "markdown",
      "metadata": {
        "id": "BvD6Bkjz7M_K"
      },
      "source": [
        "## Start playing :-)"
      ]
    },
    {
      "cell_type": "markdown",
      "metadata": {
        "id": "HKp0sa5t9aP6"
      },
      "source": [
        "The most basic stuff: converting scalars."
      ]
    },
    {
      "cell_type": "code",
      "metadata": {
        "colab": {
          "base_uri": "https://localhost:8080/"
        },
        "id": "sxck9cnxuyzS",
        "outputId": "3af514ff-9ed8-4367-d24f-8a34b402dd82"
      },
      "source": [
        "a = Dist(34)\r\n",
        "print(a)\r\n",
        "print(a.km)\r\n",
        "print(a.ft)"
      ],
      "execution_count": 5,
      "outputs": [
        {
          "output_type": "stream",
          "text": [
            "34.0\n",
            "0.034\n",
            "111.54855660000001\n"
          ],
          "name": "stdout"
        }
      ]
    },
    {
      "cell_type": "code",
      "metadata": {
        "colab": {
          "base_uri": "https://localhost:8080/"
        },
        "id": "mf7DHver5pnN",
        "outputId": "00ab2132-7633-4e1b-b7d3-a1aef5225dfd"
      },
      "source": [
        "b = Dist.fromft(15000)\r\n",
        "print(b.m)\r\n",
        "print(b.ft)"
      ],
      "execution_count": 6,
      "outputs": [
        {
          "output_type": "stream",
          "text": [
            "4571.99999305056\n",
            "15000.0\n"
          ],
          "name": "stdout"
        }
      ]
    },
    {
      "cell_type": "markdown",
      "metadata": {
        "id": "eHma7a2V9e5T"
      },
      "source": [
        "We can also work with numpy arrays."
      ]
    },
    {
      "cell_type": "code",
      "metadata": {
        "colab": {
          "base_uri": "https://localhost:8080/"
        },
        "id": "_7C_IS066isM",
        "outputId": "9c72070a-edc1-477f-c2ca-815c51c15157"
      },
      "source": [
        "c = Dist.fromft(np.arange(0, 31000, 10000))\r\n",
        "print(c)\r\n",
        "print(c.m)\r\n",
        "print(c.ft)"
      ],
      "execution_count": 7,
      "outputs": [
        {
          "output_type": "stream",
          "text": [
            "[0.0 3047.99999536704 6095.99999073408 9143.99998610112]\n",
            "[   0.         3047.99999537 6095.99999073 9143.9999861 ]\n",
            "[    0. 10000. 20000. 30000.]\n"
          ],
          "name": "stdout"
        }
      ]
    },
    {
      "cell_type": "code",
      "metadata": {
        "colab": {
          "base_uri": "https://localhost:8080/"
        },
        "id": "T-K5FPME8XtW",
        "outputId": "f0f7c1e6-9044-43a1-87ad-3470b3e3e8e3"
      },
      "source": [
        "d = Dist.fromkm([30, 50, 75])\r\n",
        "print(tabulate(np.array([d.km, d.nm, d.mi]).transpose(), headers=['km', 'nm', 'mi']))"
      ],
      "execution_count": 8,
      "outputs": [
        {
          "output_type": "stream",
          "text": [
            "  km       nm       mi\n",
            "----  -------  -------\n",
            "  30  16.1987  18.6411\n",
            "  50  26.9978  31.0686\n",
            "  75  40.4968  46.6028\n"
          ],
          "name": "stdout"
        }
      ]
    },
    {
      "cell_type": "code",
      "metadata": {
        "colab": {
          "base_uri": "https://localhost:8080/"
        },
        "id": "p_nfhiEK9Bjk",
        "outputId": "574cb7f2-0b2b-458d-e588-e70415d423d9"
      },
      "source": [
        "e_n = np.linspace(100, 1200, 12).reshape(4,3)\r\n",
        "e = Dist(e_n)\r\n",
        "print(e)\r\n",
        "print(e.km)"
      ],
      "execution_count": 9,
      "outputs": [
        {
          "output_type": "stream",
          "text": [
            "[[100.0 200.0 300.0]\n",
            " [400.0 500.0 600.0]\n",
            " [700.0 800.0 900.0]\n",
            " [1000.0 1100.0 1200.0]]\n",
            "[[0.1 0.2 0.3]\n",
            " [0.4 0.5 0.6]\n",
            " [0.7 0.8 0.9]\n",
            " [1.  1.1 1.2]]\n"
          ],
          "name": "stdout"
        }
      ]
    },
    {
      "cell_type": "markdown",
      "metadata": {
        "id": "PFMe0ybI-kIE"
      },
      "source": [
        "We can use the numpy filtering functionalities."
      ]
    },
    {
      "cell_type": "code",
      "metadata": {
        "colab": {
          "base_uri": "https://localhost:8080/"
        },
        "id": "82QJcQJj-Vk7",
        "outputId": "3b246c3d-3159-482e-e3e2-bfad450c07f3"
      },
      "source": [
        "f = Dist.fromft(np.arange(1, 10))\r\n",
        "print(f.m)\r\n",
        "print(f[f > 1])\r\n",
        "print(f[f.ft > 2])\r\n",
        "print(f[f.ft > 2].ft)\r\n",
        "print(f[f > Dist.fromft(2)].ft)"
      ],
      "execution_count": 10,
      "outputs": [
        {
          "output_type": "stream",
          "text": [
            "[0.3048 0.6096 0.9144 1.2192 1.524  1.8288 2.1336 2.4384 2.7432]\n",
            "[1.219199998146816 1.5239999976835201 1.828799997220224 2.133599996756928\n",
            " 2.438399996293632 2.743199995830336]\n",
            "[0.914399998610112 1.219199998146816 1.5239999976835201 1.828799997220224\n",
            " 2.133599996756928 2.438399996293632 2.743199995830336]\n",
            "[3. 4. 5. 6. 7. 8. 9.]\n",
            "[3. 4. 5. 6. 7. 8. 9.]\n"
          ],
          "name": "stdout"
        }
      ]
    },
    {
      "cell_type": "markdown",
      "metadata": {
        "id": "OjvlnXhTAaxj"
      },
      "source": [
        "The individual elements also have the unit attributes."
      ]
    },
    {
      "cell_type": "code",
      "metadata": {
        "colab": {
          "base_uri": "https://localhost:8080/"
        },
        "id": "1GLl-lGT-3r4",
        "outputId": "80e439a0-6be3-4725-fbff-19416f2cab7a"
      },
      "source": [
        "g = Dist.fromft(np.arange(1,10))\r\n",
        "g_e = g[3]\r\n",
        "print(g_e)\r\n",
        "print(g_e.ft)"
      ],
      "execution_count": 11,
      "outputs": [
        {
          "output_type": "stream",
          "text": [
            "1.219199998146816\n",
            "4.0\n"
          ],
          "name": "stdout"
        }
      ]
    },
    {
      "cell_type": "markdown",
      "metadata": {
        "id": "0SlD3vjUA98k"
      },
      "source": [
        "The numpy functions work with Pqs."
      ]
    },
    {
      "cell_type": "code",
      "metadata": {
        "colab": {
          "base_uri": "https://localhost:8080/"
        },
        "id": "ADvjJhCTAlLj",
        "outputId": "d7570f9d-d62f-4fbf-b086-75a6ac34e0f8"
      },
      "source": [
        "h = Dist(np.arange(1,10))\r\n",
        "print(h)\r\n",
        "print(np.sqrt(h))\r\n",
        "print(h.km)\r\n",
        "print(np.exp(h.km))"
      ],
      "execution_count": 12,
      "outputs": [
        {
          "output_type": "stream",
          "text": [
            "[1.0 2.0 3.0 4.0 5.0 6.0 7.0 8.0 9.0]\n",
            "[1.         1.41421356 1.73205081 2.         2.23606798 2.44948974\n",
            " 2.64575131 2.82842712 3.        ]\n",
            "[0.001 0.002 0.003 0.004 0.005 0.006 0.007 0.008 0.009]\n",
            "[1.0010005  1.002002   1.0030045  1.00400801 1.00501252 1.00601804\n",
            " 1.00702456 1.00803209 1.00904062]\n"
          ],
          "name": "stdout"
        }
      ]
    },
    {
      "cell_type": "markdown",
      "metadata": {
        "id": "qaYobA5YHr9z"
      },
      "source": [
        "Numpy broadcasting also works."
      ]
    },
    {
      "cell_type": "code",
      "metadata": {
        "colab": {
          "base_uri": "https://localhost:8080/"
        },
        "id": "oym416GUHuYU",
        "outputId": "626209ea-1174-4206-cf43-47083db55f29"
      },
      "source": [
        "i = Dist([[3,4],[8,9]])\r\n",
        "j = np.array([4,5])\r\n",
        "print(i*j)"
      ],
      "execution_count": 13,
      "outputs": [
        {
          "output_type": "stream",
          "text": [
            "[[12. 20.]\n",
            " [32. 45.]]\n"
          ],
          "name": "stdout"
        }
      ]
    },
    {
      "cell_type": "markdown",
      "metadata": {
        "id": "-9NY-k-wDZvK"
      },
      "source": [
        "The main idea is to perform calculations without caring about the input and output units. For example, if the SPQ package was loaded with SI main units, and the computations are done in SI units, everything will work as expected."
      ]
    },
    {
      "cell_type": "code",
      "metadata": {
        "id": "nCsLs-tfDhnd"
      },
      "source": [
        "def IsaTemp(h):\r\n",
        "  \"\"\"\r\n",
        "  Usual atmospheric temperature, dependent on altitude.\r\n",
        "  All quantities are expected to be in SI units.\r\n",
        "  \"\"\"\r\n",
        "  if h < 11000.0:\r\n",
        "    return 288.15 - 6.5 * h / 1000.\r\n",
        "  else:\r\n",
        "    return 216.65"
      ],
      "execution_count": 14,
      "outputs": []
    },
    {
      "cell_type": "code",
      "metadata": {
        "colab": {
          "base_uri": "https://localhost:8080/"
        },
        "id": "oAGY3L3MEjk7",
        "outputId": "dcd7adcf-475f-40ac-bc94-c32a6e06bc7f"
      },
      "source": [
        "h = Dist.fromft(10000)\r\n",
        "t = IsaTemp(h)\r\n",
        "t = Temp(t)\r\n",
        "print(t.k)\r\n",
        "print(t.c)\r\n",
        "print(t.f)"
      ],
      "execution_count": 15,
      "outputs": [
        {
          "output_type": "stream",
          "text": [
            "268.33800003011424\n",
            "-4.811999969885733\n",
            "23.338400054205678\n"
          ],
          "name": "stdout"
        }
      ]
    },
    {
      "cell_type": "markdown",
      "metadata": {
        "id": "Ws3g7sg-C6rU"
      },
      "source": [
        "Plotting works too."
      ]
    },
    {
      "cell_type": "code",
      "metadata": {
        "colab": {
          "base_uri": "https://localhost:8080/",
          "height": 279
        },
        "id": "UlE1IdhJBIWh",
        "outputId": "badd53e0-3078-4c42-bfc3-5181abbd585d"
      },
      "source": [
        "h = Dist.fromft(np.linspace(0, 50000, 50))\r\n",
        "t = Temp([IsaTemp(h_) for h_ in h]) # Could have been more compact if IsaTemp was coded in a numpy-friendly way.\r\n",
        "\r\n",
        "plt.plot(t.c, h.ft, '-o')\r\n",
        "plt.xlabel('temp (degC)')\r\n",
        "plt.ylabel('alt (ft)')\r\n",
        "plt.grid()"
      ],
      "execution_count": 16,
      "outputs": [
        {
          "output_type": "display_data",
          "data": {
            "image/png": "[encoded data removed]",
            "text/plain": [
              "<Figure size 432x288 with 1 Axes>"
            ]
          },
          "metadata": {
            "tags": [],
            "needs_background": "light"
          }
        }
      ]
    },
    {
      "cell_type": "markdown",
      "metadata": {
        "id": "B8vtR7z6HJSl"
      },
      "source": [
        "SPQ does **not** handle operations between physical quantities. The computations work, but they don't result in some derived quantity. It is also not the intention of the module. You can always specify the resulting physical quantity."
      ]
    },
    {
      "cell_type": "code",
      "metadata": {
        "colab": {
          "base_uri": "https://localhost:8080/"
        },
        "id": "h0MqEVr7GjiG",
        "outputId": "2e07b6b0-01ed-4fbc-f9e8-fb69257a7e72"
      },
      "source": [
        "l = Dist([[3,4],[8,9]])\r\n",
        "m = Dist([4,5])\r\n",
        "n = l*m\r\n",
        "\r\n",
        "print(n)\r\n",
        "print()\r\n",
        "\r\n",
        "try:\r\n",
        "  print(n.sqm)\r\n",
        "except AttributeError as err:\r\n",
        "  print(err)\r\n",
        "  print()\r\n",
        "\r\n",
        "n = Area(n)\r\n",
        "print(n.sqm)\r\n",
        "print(n.sqft)"
      ],
      "execution_count": 17,
      "outputs": [
        {
          "output_type": "stream",
          "text": [
            "[[12. 20.]\n",
            " [32. 45.]]\n",
            "\n",
            "'numpy.ndarray' object has no attribute 'sqm'\n",
            "\n",
            "[[12. 20.]\n",
            " [32. 45.]]\n",
            "[[129.16692539 215.27820899]\n",
            " [344.44513438 484.37597022]]\n"
          ],
          "name": "stdout"
        }
      ]
    },
    {
      "cell_type": "code",
      "metadata": {
        "id": "SzjXPUWPH8GB"
      },
      "source": [
        ""
      ],
      "execution_count": 17,
      "outputs": []
    }
  ]
}
